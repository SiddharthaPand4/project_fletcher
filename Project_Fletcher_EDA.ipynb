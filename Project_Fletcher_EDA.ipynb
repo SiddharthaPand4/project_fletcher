{
 "cells": [
  {
   "cell_type": "code",
   "execution_count": 109,
   "metadata": {},
   "outputs": [],
   "source": [
    "import numpy as np\n",
    "import pandas as pd\n",
    "\n",
    "import matplotlib.pyplot as plt\n",
    "import seaborn as sns\n",
    "\n",
    "from sklearn.feature_extraction.text import CountVectorizer, TfidfVectorizer\n",
    "from sklearn.decomposition import NMF, TruncatedSVD"
   ]
  },
  {
   "cell_type": "markdown",
   "metadata": {},
   "source": [
    "# Data Description\n",
    "The dataset is obtained from Kaggle (https://www.kaggle.com/nicapotato/womens-ecommerce-clothing-reviews)\n",
    "\n",
    "- **Clothing ID**: Integer Categorical variable that refers to the specific piece being reviewed.\n",
    "- **Age**: Positive Integer variable of the reviewers age.\n",
    "- **Title**: String variable for the title of the review.\n",
    "- **Review Text**: String variable for the review body. The company name is replaced by te word 'retailer'.\n",
    "- **Rating**: Positive Ordinal Integer variable for the product score granted by the customer from 1 Worst, to 5 Best.\n",
    "- **Recommended IND**: Binary variable stating where the customer recommends the product where 1 is recommended, 0 is not recommended.\n",
    "- **Positive Feedback Count**: Positive Integer documenting the number of other customers who found this review positive.\n",
    "- **Division Name**: Categorical name of the product high level division.\n",
    "- **Department Name**: Categorical name of the product department name.\n",
    "- **Class Name**: Categorical name of the product class name."
   ]
  },
  {
   "cell_type": "markdown",
   "metadata": {},
   "source": [
    "### To-do list\n",
    "- load dataset\n",
    "- EDA\n",
    "- Preform cleanings"
   ]
  },
  {
   "cell_type": "markdown",
   "metadata": {},
   "source": [
    "# Load the dataset"
   ]
  },
  {
   "cell_type": "code",
   "execution_count": 79,
   "metadata": {},
   "outputs": [
    {
     "data": {
      "text/html": [
       "<div>\n",
       "<style scoped>\n",
       "    .dataframe tbody tr th:only-of-type {\n",
       "        vertical-align: middle;\n",
       "    }\n",
       "\n",
       "    .dataframe tbody tr th {\n",
       "        vertical-align: top;\n",
       "    }\n",
       "\n",
       "    .dataframe thead th {\n",
       "        text-align: right;\n",
       "    }\n",
       "</style>\n",
       "<table border=\"1\" class=\"dataframe\">\n",
       "  <thead>\n",
       "    <tr style=\"text-align: right;\">\n",
       "      <th></th>\n",
       "      <th>Unnamed: 0</th>\n",
       "      <th>Clothing ID</th>\n",
       "      <th>Age</th>\n",
       "      <th>Title</th>\n",
       "      <th>Review Text</th>\n",
       "      <th>Rating</th>\n",
       "      <th>Recommended IND</th>\n",
       "      <th>Positive Feedback Count</th>\n",
       "      <th>Division Name</th>\n",
       "      <th>Department Name</th>\n",
       "      <th>Class Name</th>\n",
       "    </tr>\n",
       "  </thead>\n",
       "  <tbody>\n",
       "    <tr>\n",
       "      <th>0</th>\n",
       "      <td>0</td>\n",
       "      <td>767</td>\n",
       "      <td>33</td>\n",
       "      <td>NaN</td>\n",
       "      <td>Absolutely wonderful - silky and sexy and comf...</td>\n",
       "      <td>4</td>\n",
       "      <td>1</td>\n",
       "      <td>0</td>\n",
       "      <td>Initmates</td>\n",
       "      <td>Intimate</td>\n",
       "      <td>Intimates</td>\n",
       "    </tr>\n",
       "    <tr>\n",
       "      <th>1</th>\n",
       "      <td>1</td>\n",
       "      <td>1080</td>\n",
       "      <td>34</td>\n",
       "      <td>NaN</td>\n",
       "      <td>Love this dress!  it's sooo pretty.  i happene...</td>\n",
       "      <td>5</td>\n",
       "      <td>1</td>\n",
       "      <td>4</td>\n",
       "      <td>General</td>\n",
       "      <td>Dresses</td>\n",
       "      <td>Dresses</td>\n",
       "    </tr>\n",
       "    <tr>\n",
       "      <th>2</th>\n",
       "      <td>2</td>\n",
       "      <td>1077</td>\n",
       "      <td>60</td>\n",
       "      <td>Some major design flaws</td>\n",
       "      <td>I had such high hopes for this dress and reall...</td>\n",
       "      <td>3</td>\n",
       "      <td>0</td>\n",
       "      <td>0</td>\n",
       "      <td>General</td>\n",
       "      <td>Dresses</td>\n",
       "      <td>Dresses</td>\n",
       "    </tr>\n",
       "    <tr>\n",
       "      <th>3</th>\n",
       "      <td>3</td>\n",
       "      <td>1049</td>\n",
       "      <td>50</td>\n",
       "      <td>My favorite buy!</td>\n",
       "      <td>I love, love, love this jumpsuit. it's fun, fl...</td>\n",
       "      <td>5</td>\n",
       "      <td>1</td>\n",
       "      <td>0</td>\n",
       "      <td>General Petite</td>\n",
       "      <td>Bottoms</td>\n",
       "      <td>Pants</td>\n",
       "    </tr>\n",
       "    <tr>\n",
       "      <th>4</th>\n",
       "      <td>4</td>\n",
       "      <td>847</td>\n",
       "      <td>47</td>\n",
       "      <td>Flattering shirt</td>\n",
       "      <td>This shirt is very flattering to all due to th...</td>\n",
       "      <td>5</td>\n",
       "      <td>1</td>\n",
       "      <td>6</td>\n",
       "      <td>General</td>\n",
       "      <td>Tops</td>\n",
       "      <td>Blouses</td>\n",
       "    </tr>\n",
       "  </tbody>\n",
       "</table>\n",
       "</div>"
      ],
      "text/plain": [
       "   Unnamed: 0  Clothing ID  Age                    Title  \\\n",
       "0           0          767   33                      NaN   \n",
       "1           1         1080   34                      NaN   \n",
       "2           2         1077   60  Some major design flaws   \n",
       "3           3         1049   50         My favorite buy!   \n",
       "4           4          847   47         Flattering shirt   \n",
       "\n",
       "                                         Review Text  Rating  Recommended IND  \\\n",
       "0  Absolutely wonderful - silky and sexy and comf...       4                1   \n",
       "1  Love this dress!  it's sooo pretty.  i happene...       5                1   \n",
       "2  I had such high hopes for this dress and reall...       3                0   \n",
       "3  I love, love, love this jumpsuit. it's fun, fl...       5                1   \n",
       "4  This shirt is very flattering to all due to th...       5                1   \n",
       "\n",
       "   Positive Feedback Count   Division Name Department Name Class Name  \n",
       "0                        0       Initmates        Intimate  Intimates  \n",
       "1                        4         General         Dresses    Dresses  \n",
       "2                        0         General         Dresses    Dresses  \n",
       "3                        0  General Petite         Bottoms      Pants  \n",
       "4                        6         General            Tops    Blouses  "
      ]
     },
     "execution_count": 79,
     "metadata": {},
     "output_type": "execute_result"
    }
   ],
   "source": [
    "# load the dataset.\n",
    "df = pd.read_csv('Womens Clothing E-Commerce Reviews.csv')\n",
    "df.head()"
   ]
  },
  {
   "cell_type": "markdown",
   "metadata": {},
   "source": [
    "# EDA"
   ]
  },
  {
   "cell_type": "code",
   "execution_count": 80,
   "metadata": {},
   "outputs": [
    {
     "data": {
      "text/plain": [
       "Index(['Unnamed: 0', 'Clothing ID', 'Age', 'Title', 'Review Text', 'Rating',\n",
       "       'Recommended IND', 'Positive Feedback Count', 'Division Name',\n",
       "       'Department Name', 'Class Name'],\n",
       "      dtype='object')"
      ]
     },
     "execution_count": 80,
     "metadata": {},
     "output_type": "execute_result"
    }
   ],
   "source": [
    "# list of column names.\n",
    "df.columns"
   ]
  },
  {
   "cell_type": "code",
   "execution_count": 81,
   "metadata": {},
   "outputs": [
    {
     "data": {
      "text/plain": [
       "(23486, 11)"
      ]
     },
     "execution_count": 81,
     "metadata": {},
     "output_type": "execute_result"
    }
   ],
   "source": [
    "# there are 23486 rows and 11 columns.\n",
    "df.shape"
   ]
  },
  {
   "cell_type": "code",
   "execution_count": 82,
   "metadata": {},
   "outputs": [],
   "source": [
    "# take out the 'Unnamed: 0' and 'Clothing ID' column.\n",
    "# don't think they will be useful for my analysis.\n",
    "df = df.drop(['Unnamed: 0', 'Clothing ID'], axis=1)\n",
    "\n",
    "# clean the white space from the column names.\n",
    "df = df.rename(columns=lambda x: x.replace(' ', ''))"
   ]
  },
  {
   "cell_type": "code",
   "execution_count": 83,
   "metadata": {},
   "outputs": [
    {
     "name": "stdout",
     "output_type": "stream",
     "text": [
      "<class 'pandas.core.frame.DataFrame'>\n",
      "RangeIndex: 23486 entries, 0 to 23485\n",
      "Data columns (total 9 columns):\n",
      "Age                      23486 non-null int64\n",
      "Title                    19676 non-null object\n",
      "ReviewText               22641 non-null object\n",
      "Rating                   23486 non-null int64\n",
      "RecommendedIND           23486 non-null int64\n",
      "PositiveFeedbackCount    23486 non-null int64\n",
      "DivisionName             23472 non-null object\n",
      "DepartmentName           23472 non-null object\n",
      "ClassName                23472 non-null object\n",
      "dtypes: int64(4), object(5)\n",
      "memory usage: 1.6+ MB\n"
     ]
    }
   ],
   "source": [
    "# there are NaN in Title, ReviewText, DivisionName, DepartmentName, ClassName column.\n",
    "df.info()"
   ]
  },
  {
   "cell_type": "markdown",
   "metadata": {},
   "source": [
    "### How many NAs we have?\n",
    "Columns Name  | Amount of NAs | % of dataset | \n",
    "------------- | ------------- | -------------|\n",
    "Title  | 3810  | ~16% | \n",
    "ReviewText  | 845  | ~3.5% | \n",
    "DivisionName  | 14  | ~0.05% | \n",
    "DepartmentName  | 14  | ~0.05% | \n",
    "ClassName  | 14  | ~0.05% | \n",
    "\n",
    "- Those NAs in **DivisionName**, **DepartmentName** and **ClassName** are the same, since there are only ~0.05% of those, I will drop them.\n",
    "- For **ReviewText**, since we are preforming our NLP on that column primarily, we can't preform NLP if we don't have any text to analyze, so I will drop them.\n",
    "- For **Title**, since it is text and I am doing NLP, eventually I probabily will need to prefrom NLP on that column and combine with the ReviewText column to see if there is any meaningful unsupervised learning results. There are 3810 (~16% of my whole dataset) NAs and I don't really want to drop all of them. So my solution is to create a new column called CombineText, which comebine the Title and ReviewText column together and makes the Title like the first sentense of the review.\n"
   ]
  },
  {
   "cell_type": "markdown",
   "metadata": {},
   "source": [
    "### Clean the NAs"
   ]
  },
  {
   "cell_type": "code",
   "execution_count": 84,
   "metadata": {},
   "outputs": [
    {
     "name": "stdout",
     "output_type": "stream",
     "text": [
      "Now length of df is:  22628\n"
     ]
    }
   ],
   "source": [
    "# dorpping NAs for 4 columns.\n",
    "subset = ['ReviewText', 'DivisionName', 'DepartmentName', 'ClassName']\n",
    "df = df.dropna(subset=subset)\n",
    "\n",
    "print('Now length of df is: ', len(df))"
   ]
  },
  {
   "cell_type": "code",
   "execution_count": 85,
   "metadata": {},
   "outputs": [],
   "source": [
    "# first fill NAs in the Title column with space, so I can concatenate the Title and ReviewText column together.\n",
    "df.Title.fillna('', inplace=True)\n",
    "\n",
    "# create a new column named CombinedText with Title and ReviewText.\n",
    "df['CombinedText'] = df.Title + ' ' + df.ReviewText\n",
    "\n",
    "# drop the Title column.\n",
    "df.drop('Title', axis=1, inplace=True)"
   ]
  },
  {
   "cell_type": "code",
   "execution_count": 88,
   "metadata": {},
   "outputs": [
    {
     "data": {
      "text/html": [
       "<div>\n",
       "<style scoped>\n",
       "    .dataframe tbody tr th:only-of-type {\n",
       "        vertical-align: middle;\n",
       "    }\n",
       "\n",
       "    .dataframe tbody tr th {\n",
       "        vertical-align: top;\n",
       "    }\n",
       "\n",
       "    .dataframe thead th {\n",
       "        text-align: right;\n",
       "    }\n",
       "</style>\n",
       "<table border=\"1\" class=\"dataframe\">\n",
       "  <thead>\n",
       "    <tr style=\"text-align: right;\">\n",
       "      <th></th>\n",
       "      <th>Age</th>\n",
       "      <th>Rating</th>\n",
       "      <th>RecommendedIND</th>\n",
       "      <th>PositiveFeedbackCount</th>\n",
       "    </tr>\n",
       "  </thead>\n",
       "  <tbody>\n",
       "    <tr>\n",
       "      <th>count</th>\n",
       "      <td>22628.000000</td>\n",
       "      <td>22628.000000</td>\n",
       "      <td>22628.000000</td>\n",
       "      <td>22628.000000</td>\n",
       "    </tr>\n",
       "    <tr>\n",
       "      <th>mean</th>\n",
       "      <td>43.282880</td>\n",
       "      <td>4.183092</td>\n",
       "      <td>0.818764</td>\n",
       "      <td>2.631784</td>\n",
       "    </tr>\n",
       "    <tr>\n",
       "      <th>std</th>\n",
       "      <td>12.328176</td>\n",
       "      <td>1.115911</td>\n",
       "      <td>0.385222</td>\n",
       "      <td>5.787520</td>\n",
       "    </tr>\n",
       "    <tr>\n",
       "      <th>min</th>\n",
       "      <td>18.000000</td>\n",
       "      <td>1.000000</td>\n",
       "      <td>0.000000</td>\n",
       "      <td>0.000000</td>\n",
       "    </tr>\n",
       "    <tr>\n",
       "      <th>25%</th>\n",
       "      <td>34.000000</td>\n",
       "      <td>4.000000</td>\n",
       "      <td>1.000000</td>\n",
       "      <td>0.000000</td>\n",
       "    </tr>\n",
       "    <tr>\n",
       "      <th>50%</th>\n",
       "      <td>41.000000</td>\n",
       "      <td>5.000000</td>\n",
       "      <td>1.000000</td>\n",
       "      <td>1.000000</td>\n",
       "    </tr>\n",
       "    <tr>\n",
       "      <th>75%</th>\n",
       "      <td>52.000000</td>\n",
       "      <td>5.000000</td>\n",
       "      <td>1.000000</td>\n",
       "      <td>3.000000</td>\n",
       "    </tr>\n",
       "    <tr>\n",
       "      <th>max</th>\n",
       "      <td>99.000000</td>\n",
       "      <td>5.000000</td>\n",
       "      <td>1.000000</td>\n",
       "      <td>122.000000</td>\n",
       "    </tr>\n",
       "  </tbody>\n",
       "</table>\n",
       "</div>"
      ],
      "text/plain": [
       "                Age        Rating  RecommendedIND  PositiveFeedbackCount\n",
       "count  22628.000000  22628.000000    22628.000000           22628.000000\n",
       "mean      43.282880      4.183092        0.818764               2.631784\n",
       "std       12.328176      1.115911        0.385222               5.787520\n",
       "min       18.000000      1.000000        0.000000               0.000000\n",
       "25%       34.000000      4.000000        1.000000               0.000000\n",
       "50%       41.000000      5.000000        1.000000               1.000000\n",
       "75%       52.000000      5.000000        1.000000               3.000000\n",
       "max       99.000000      5.000000        1.000000             122.000000"
      ]
     },
     "execution_count": 88,
     "metadata": {},
     "output_type": "execute_result"
    }
   ],
   "source": [
    "# general stats for the 4 numeric columns.\n",
    "df.describe()"
   ]
  },
  {
   "cell_type": "code",
   "execution_count": 89,
   "metadata": {},
   "outputs": [
    {
     "name": "stdout",
     "output_type": "stream",
     "text": [
      "<class 'pandas.core.frame.DataFrame'>\n",
      "Int64Index: 22628 entries, 0 to 23485\n",
      "Data columns (total 9 columns):\n",
      "Age                      22628 non-null int64\n",
      "ReviewText               22628 non-null object\n",
      "Rating                   22628 non-null int64\n",
      "RecommendedIND           22628 non-null int64\n",
      "PositiveFeedbackCount    22628 non-null int64\n",
      "DivisionName             22628 non-null object\n",
      "DepartmentName           22628 non-null object\n",
      "ClassName                22628 non-null object\n",
      "CombinedText             22628 non-null object\n",
      "dtypes: int64(4), object(5)\n",
      "memory usage: 1.7+ MB\n"
     ]
    }
   ],
   "source": [
    "# there is no more NAs\n",
    "df.info()"
   ]
  },
  {
   "cell_type": "markdown",
   "metadata": {},
   "source": [
    "### Export as CSV"
   ]
  },
  {
   "cell_type": "code",
   "execution_count": 129,
   "metadata": {},
   "outputs": [],
   "source": [
    "df.to_pickle('cleaned_df.pkl')"
   ]
  },
  {
   "cell_type": "markdown",
   "metadata": {},
   "source": [
    "### Clean the Text Columns"
   ]
  },
  {
   "cell_type": "code",
   "execution_count": 91,
   "metadata": {
    "scrolled": true
   },
   "outputs": [
    {
     "data": {
      "text/html": [
       "<div>\n",
       "<style scoped>\n",
       "    .dataframe tbody tr th:only-of-type {\n",
       "        vertical-align: middle;\n",
       "    }\n",
       "\n",
       "    .dataframe tbody tr th {\n",
       "        vertical-align: top;\n",
       "    }\n",
       "\n",
       "    .dataframe thead th {\n",
       "        text-align: right;\n",
       "    }\n",
       "</style>\n",
       "<table border=\"1\" class=\"dataframe\">\n",
       "  <thead>\n",
       "    <tr style=\"text-align: right;\">\n",
       "      <th></th>\n",
       "      <th>Age</th>\n",
       "      <th>ReviewText</th>\n",
       "      <th>Rating</th>\n",
       "      <th>RecommendedIND</th>\n",
       "      <th>PositiveFeedbackCount</th>\n",
       "      <th>DivisionName</th>\n",
       "      <th>DepartmentName</th>\n",
       "      <th>ClassName</th>\n",
       "      <th>CombinedText</th>\n",
       "    </tr>\n",
       "  </thead>\n",
       "  <tbody>\n",
       "    <tr>\n",
       "      <th>0</th>\n",
       "      <td>33</td>\n",
       "      <td>Absolutely wonderful - silky and sexy and comf...</td>\n",
       "      <td>4</td>\n",
       "      <td>1</td>\n",
       "      <td>0</td>\n",
       "      <td>Initmates</td>\n",
       "      <td>Intimate</td>\n",
       "      <td>Intimates</td>\n",
       "      <td>Absolutely wonderful - silky and sexy and com...</td>\n",
       "    </tr>\n",
       "    <tr>\n",
       "      <th>1</th>\n",
       "      <td>34</td>\n",
       "      <td>Love this dress!  it's sooo pretty.  i happene...</td>\n",
       "      <td>5</td>\n",
       "      <td>1</td>\n",
       "      <td>4</td>\n",
       "      <td>General</td>\n",
       "      <td>Dresses</td>\n",
       "      <td>Dresses</td>\n",
       "      <td>Love this dress!  it's sooo pretty.  i happen...</td>\n",
       "    </tr>\n",
       "    <tr>\n",
       "      <th>2</th>\n",
       "      <td>60</td>\n",
       "      <td>I had such high hopes for this dress and reall...</td>\n",
       "      <td>3</td>\n",
       "      <td>0</td>\n",
       "      <td>0</td>\n",
       "      <td>General</td>\n",
       "      <td>Dresses</td>\n",
       "      <td>Dresses</td>\n",
       "      <td>Some major design flaws I had such high hopes ...</td>\n",
       "    </tr>\n",
       "    <tr>\n",
       "      <th>3</th>\n",
       "      <td>50</td>\n",
       "      <td>I love, love, love this jumpsuit. it's fun, fl...</td>\n",
       "      <td>5</td>\n",
       "      <td>1</td>\n",
       "      <td>0</td>\n",
       "      <td>General Petite</td>\n",
       "      <td>Bottoms</td>\n",
       "      <td>Pants</td>\n",
       "      <td>My favorite buy! I love, love, love this jumps...</td>\n",
       "    </tr>\n",
       "    <tr>\n",
       "      <th>4</th>\n",
       "      <td>47</td>\n",
       "      <td>This shirt is very flattering to all due to th...</td>\n",
       "      <td>5</td>\n",
       "      <td>1</td>\n",
       "      <td>6</td>\n",
       "      <td>General</td>\n",
       "      <td>Tops</td>\n",
       "      <td>Blouses</td>\n",
       "      <td>Flattering shirt This shirt is very flattering...</td>\n",
       "    </tr>\n",
       "  </tbody>\n",
       "</table>\n",
       "</div>"
      ],
      "text/plain": [
       "   Age                                         ReviewText  Rating  \\\n",
       "0   33  Absolutely wonderful - silky and sexy and comf...       4   \n",
       "1   34  Love this dress!  it's sooo pretty.  i happene...       5   \n",
       "2   60  I had such high hopes for this dress and reall...       3   \n",
       "3   50  I love, love, love this jumpsuit. it's fun, fl...       5   \n",
       "4   47  This shirt is very flattering to all due to th...       5   \n",
       "\n",
       "   RecommendedIND  PositiveFeedbackCount    DivisionName DepartmentName  \\\n",
       "0               1                      0       Initmates       Intimate   \n",
       "1               1                      4         General        Dresses   \n",
       "2               0                      0         General        Dresses   \n",
       "3               1                      0  General Petite        Bottoms   \n",
       "4               1                      6         General           Tops   \n",
       "\n",
       "   ClassName                                       CombinedText  \n",
       "0  Intimates   Absolutely wonderful - silky and sexy and com...  \n",
       "1    Dresses   Love this dress!  it's sooo pretty.  i happen...  \n",
       "2    Dresses  Some major design flaws I had such high hopes ...  \n",
       "3      Pants  My favorite buy! I love, love, love this jumps...  \n",
       "4    Blouses  Flattering shirt This shirt is very flattering...  "
      ]
     },
     "execution_count": 91,
     "metadata": {},
     "output_type": "execute_result"
    }
   ],
   "source": [
    "df.head()"
   ]
  },
  {
   "cell_type": "code",
   "execution_count": 115,
   "metadata": {},
   "outputs": [],
   "source": [
    "count_vectorizer = CountVectorizer(ngram_range=(1, 2),  \n",
    "                                   stop_words='english', \n",
    "                                   token_pattern=\"\\\\b[a-z][a-z]+\\\\b\",\n",
    "                                   lowercase=True,\n",
    "                                   max_df = 0.6)\n",
    "tfidf_vectorizer = TfidfVectorizer(ngram_range=(1, 2),  \n",
    "                                   stop_words='english', \n",
    "                                   token_pattern=\"\\\\b[a-z][a-z]+\\\\b\",\n",
    "                                   lowercase=True,\n",
    "                                   max_df = 0.6)\n",
    "\n",
    "cv_data = count_vectorizer.fit_transform(df.ReviewText)\n",
    "tfidf_data = tfidf_vectorizer.fit_transform(df.ReviewText)"
   ]
  },
  {
   "cell_type": "code",
   "execution_count": 116,
   "metadata": {},
   "outputs": [],
   "source": [
    "def display_topics(model, feature_names, no_top_words, topic_names=None):\n",
    "    for ix, topic in enumerate(model.components_):\n",
    "        if not topic_names or not topic_names[ix]:\n",
    "            print(\"\\nTopic \", ix)\n",
    "        else:\n",
    "            print(\"\\nTopic: '\",topic_names[ix],\"'\")\n",
    "        print(\", \".join([feature_names[i]\n",
    "                        for i in topic.argsort()[:-no_top_words - 1:-1]]))"
   ]
  },
  {
   "cell_type": "code",
   "execution_count": 127,
   "metadata": {},
   "outputs": [],
   "source": [
    "n_comp = 20\n",
    "lsa_tfidf = TruncatedSVD(n_components=n_comp)\n",
    "lsa_cv = TruncatedSVD(n_components=n_comp)\n",
    "nmf_tfidf = NMF(n_components=n_comp)\n",
    "nmf_cv = NMF(n_components=n_comp)\n",
    "\n",
    "lsa_tfidf_data = lsa_tfidf.fit_transform(tfidf_data)\n",
    "lsa_cv_data = lsa_cv.fit_transform(cv_data)\n",
    "nmf_tfidf_data = nmf_tfidf.fit_transform(tfidf_data)\n",
    "nmf_cv_data = nmf_cv.fit_transform(cv_data)"
   ]
  },
  {
   "cell_type": "code",
   "execution_count": 124,
   "metadata": {
    "scrolled": true
   },
   "outputs": [
    {
     "name": "stdout",
     "output_type": "stream",
     "text": [
      "\n",
      "Topic  0\n",
      "dress, love, size, fit, great, wear, like, small, just, color\n",
      "\n",
      "Topic  1\n",
      "dress, love dress, beautiful, dress beautiful, slip, beautiful dress, dress dress, dresses, dress comfortable, dress fits\n",
      "\n",
      "Topic  2\n",
      "love, great, comfortable, jeans, soft, love love, perfect, super, compliments, looks great\n",
      "\n",
      "Topic  3\n",
      "size, true size, true, fits, love, small, fits true, great, runs, perfectly\n",
      "\n",
      "Topic  4\n",
      "true, true size, size, fit, like, fits true, nice, quality, look, just\n",
      "\n",
      "Topic  5\n",
      "love, love love, shirt, true, true size, love dress, sweater, beautiful, size, like\n",
      "\n",
      "Topic  6\n",
      "shirt, cute, true size, true, runs, looks, super, great, fits, dress\n",
      "\n",
      "Topic  7\n",
      "sweater, great, beautiful, color, looks, fits, looks great, large, quality, medium\n",
      "\n",
      "Topic  8\n",
      "great, love, shirt, fit, love love, quality, small, love dress, great fit, love shirt\n",
      "\n",
      "Topic  9\n",
      "shirt, fits, perfect, xs, perfectly, petite, fits perfectly, bought, color, summer\n",
      "\n",
      "Topic  10\n",
      "soft, super, sweater, cute, petite, length, comfortable, fit, great, ordered\n",
      "\n",
      "Topic  11\n",
      "fabric, pants, nice, comfortable, beautiful, soft, skirt, large, color, colors\n",
      "\n",
      "Topic  12\n",
      "fits, like, skirt, fits perfectly, small, waist, comfortable, perfectly, medium, look\n",
      "\n",
      "Topic  13\n",
      "perfect, length, large, long, little, shirt, nice, runs, bit, sleeves\n",
      "\n",
      "Topic  14\n",
      "soft, like, fit, jeans, shirt, comfortable, dress, medium, small, soft comfortable\n",
      "\n",
      "Topic  15\n",
      "beautiful, perfect, jeans, perfectly, color, skirt, large, cute, fits, flattering\n",
      "\n",
      "Topic  16\n",
      "jeans, comfortable, xs, skirt, looks, soft, petite, runs, beautiful, flattering\n",
      "\n",
      "Topic  17\n",
      "sweater, fit, skirt, shirt, nice, wear, flattering, fit perfectly, small, perfectly\n",
      "\n",
      "Topic  18\n",
      "compliments, just, large, pants, fit, perfectly, comfortable, received, quality, wore\n",
      "\n",
      "Topic  19\n",
      "color, nice, just, wear, jeans, beautiful, cute, fits, really, little\n"
     ]
    }
   ],
   "source": [
    "display_topics(lsa_tfidf, tfidf_vectorizer.get_feature_names(),10)"
   ]
  },
  {
   "cell_type": "code",
   "execution_count": 125,
   "metadata": {},
   "outputs": [
    {
     "name": "stdout",
     "output_type": "stream",
     "text": [
      "\n",
      "Topic  0\n",
      "dress, size, love, fit, like, wear, just, great, small, fabric\n",
      "\n",
      "Topic  1\n",
      "dress, love dress, slip, dresses, beautiful, dress beautiful, beautiful dress, dress dress, wedding, bought dress\n",
      "\n",
      "Topic  2\n",
      "size, small, fit, ordered, true, true size, large, medium, petite, size small\n",
      "\n",
      "Topic  3\n",
      "like, look, just, really, fabric, looks, nice, looked, model, didn\n",
      "\n",
      "Topic  4\n",
      "great, wear, fit, small, medium, perfect, usually, jeans, large, comfortable\n",
      "\n",
      "Topic  5\n",
      "wear, small, medium, usually, large, runs, usually wear, shirt, fits, retailer\n",
      "\n",
      "Topic  6\n",
      "fit, small, love, just, ordered, medium, xs, large, petite, usually\n",
      "\n",
      "Topic  7\n",
      "just, fabric, really, color, right, little, beautiful, ordered, nice, soft\n",
      "\n",
      "Topic  8\n",
      "small, great, medium, love, ordered, looks, like, runs, large, look\n",
      "\n",
      "Topic  9\n",
      "just, great, like, jeans, right, wear, love, look, small, just right\n",
      "\n",
      "Topic  10\n",
      "color, sweater, petite, perfect, ordered, xs, length, long, store, material\n",
      "\n",
      "Topic  11\n",
      "shirt, little, really, cute, look, material, bit, flattering, comfortable, short\n",
      "\n",
      "Topic  12\n",
      "petite, length, perfect, xs, long, waist, fabric, regular, ordered, short\n",
      "\n",
      "Topic  13\n",
      "look, really, sweater, skirt, waist, jeans, wear, large, way, didn\n",
      "\n",
      "Topic  14\n",
      "xs, ordered, petite, wear, shirt, great, really, tried, color, love\n",
      "\n",
      "Topic  15\n",
      "look, shirt, bought, pants, perfect, color, small, store, jeans, black\n",
      "\n",
      "Topic  16\n",
      "sweater, large, shirt, ordered, soft, sleeves, medium, look, beautiful, fabric\n",
      "\n",
      "Topic  17\n",
      "little, color, large, look, bit, waist, big, ordered, jeans, runs\n",
      "\n",
      "Topic  18\n",
      "store, tried, bought, xs, retailer, sweater, soft, saw, online, flattering\n",
      "\n",
      "Topic  19\n",
      "perfect, large, really, medium, bought, store, fabric, retailer, great, tried\n"
     ]
    }
   ],
   "source": [
    "display_topics(lsa_cv, count_vectorizer.get_feature_names(),10)"
   ]
  },
  {
   "cell_type": "code",
   "execution_count": null,
   "metadata": {},
   "outputs": [],
   "source": [
    "display_topics(nmf_tfidf, tfidf_vectorizer.get_feature_names(),10)"
   ]
  },
  {
   "cell_type": "code",
   "execution_count": 126,
   "metadata": {},
   "outputs": [
    {
     "name": "stdout",
     "output_type": "stream",
     "text": [
      "\n",
      "Topic  0\n",
      "love, love love, love dress, colors, absolutely, fits, absolutely love, style, wanted love, design\n",
      "\n",
      "Topic  1\n",
      "dress, beautiful, love dress, flattering, dresses, slip, material, comfortable, summer, bust\n",
      "\n",
      "Topic  2\n",
      "size, true, true size, usual, fits, usual size, smaller, large, ordered, runs\n",
      "\n",
      "Topic  3\n",
      "like, looks, feel, model, looks like, don, feel like, looked, material, look like\n",
      "\n",
      "Topic  4\n",
      "fit, fit perfectly, perfectly, waist, size fit, tight, loose, better, fit great, hips\n",
      "\n",
      "Topic  5\n",
      "wear, usually wear, usually, bra, bought, wait, normally wear, wear size, underneath, work\n",
      "\n",
      "Topic  6\n",
      "great, looks, looks great, quality, fits, fit great, fall, fits great, great quality, look great\n",
      "\n",
      "Topic  7\n",
      "just, right, just right, didn, beautiful, just didn, work, bit, dress just, fit just\n",
      "\n",
      "Topic  8\n",
      "small, medium, large, usually, runs, size small, ordered, small medium, extra, retailer\n",
      "\n",
      "Topic  9\n",
      "fabric, nice, soft, skirt, beautiful, quality, cut, fabric soft, waist, design\n",
      "\n",
      "Topic  10\n",
      "color, blue, beautiful, green, nice, red, pink, bought, pretty, orange\n",
      "\n",
      "Topic  11\n",
      "shirt, white, cute, material, love shirt, looks, sleeves, shirts, large, boxy\n",
      "\n",
      "Topic  12\n",
      "ordered, petite, xs, length, regular, long, short, lbs, xxs, waist\n",
      "\n",
      "Topic  13\n",
      "look, waist, good, look like, make, think, makes, skirt, way, look great\n",
      "\n",
      "Topic  14\n",
      "perfect, length, summer, length perfect, fit perfect, fall, perfect length, long, weight, colors\n",
      "\n",
      "Topic  15\n",
      "comfortable, jeans, flattering, soft, pants, bought, super, material, black, cute\n",
      "\n",
      "Topic  16\n",
      "sweater, soft, sleeves, large, long, beautiful, warm, love sweater, coat, looks\n",
      "\n",
      "Topic  17\n",
      "little, bit, cute, large, big, waist, little bit, runs, little big, pretty\n",
      "\n",
      "Topic  18\n",
      "store, tried, online, saw, retailer, try, didn, looked, sale, did\n",
      "\n",
      "Topic  19\n",
      "really, cute, nice, pretty, really cute, wanted, really like, really wanted, skirt, really nice\n"
     ]
    }
   ],
   "source": [
    "display_topics(nmf_cv, count_vectorizer.get_feature_names(),10)"
   ]
  },
  {
   "cell_type": "code",
   "execution_count": null,
   "metadata": {},
   "outputs": [],
   "source": []
  },
  {
   "cell_type": "code",
   "execution_count": null,
   "metadata": {},
   "outputs": [],
   "source": []
  }
 ],
 "metadata": {
  "kernelspec": {
   "display_name": "Python 3",
   "language": "python",
   "name": "python3"
  },
  "language_info": {
   "codemirror_mode": {
    "name": "ipython",
    "version": 3
   },
   "file_extension": ".py",
   "mimetype": "text/x-python",
   "name": "python",
   "nbconvert_exporter": "python",
   "pygments_lexer": "ipython3",
   "version": "3.6.4"
  }
 },
 "nbformat": 4,
 "nbformat_minor": 2
}
